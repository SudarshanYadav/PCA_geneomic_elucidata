{
 "cells": [
  {
   "cell_type": "code",
   "execution_count": 1,
   "metadata": {},
   "outputs": [],
   "source": [
    "import numpy as np\n",
    "import pandas as pd\n",
    "import matplotlib.pyplot as plt\n",
    "import seaborn as sns\n",
    "from sklearn.preprocessing import StandardScaler\n",
    "%matplotlib notebook"
   ]
  },
  {
   "cell_type": "code",
   "execution_count": 40,
   "metadata": {},
   "outputs": [],
   "source": [
    "def convert_nan(string):\n",
    "    try:\n",
    "        i = float(string)\n",
    "        return i \n",
    "    except ValueError:\n",
    "        #Handle the exception\n",
    "        return np.NaN\n",
    "    \n",
    "    \n",
    "        \n",
    "        \n",
    "data = pd.read_csv('Assignment-2_gene_data.csv',converters={'S2':convert_nan,'S13':convert_nan})"
   ]
  },
  {
   "cell_type": "code",
   "execution_count": 41,
   "metadata": {},
   "outputs": [
    {
     "data": {
      "text/html": [
       "<div>\n",
       "<style scoped>\n",
       "    .dataframe tbody tr th:only-of-type {\n",
       "        vertical-align: middle;\n",
       "    }\n",
       "\n",
       "    .dataframe tbody tr th {\n",
       "        vertical-align: top;\n",
       "    }\n",
       "\n",
       "    .dataframe thead th {\n",
       "        text-align: right;\n",
       "    }\n",
       "</style>\n",
       "<table border=\"1\" class=\"dataframe\">\n",
       "  <thead>\n",
       "    <tr style=\"text-align: right;\">\n",
       "      <th></th>\n",
       "      <th>Unnamed: 0</th>\n",
       "      <th>symbol</th>\n",
       "      <th>S1</th>\n",
       "      <th>S2</th>\n",
       "      <th>S3</th>\n",
       "      <th>S4</th>\n",
       "      <th>S5</th>\n",
       "      <th>S6</th>\n",
       "      <th>S7</th>\n",
       "      <th>S8</th>\n",
       "      <th>...</th>\n",
       "      <th>S21</th>\n",
       "      <th>S22</th>\n",
       "      <th>S23</th>\n",
       "      <th>S24</th>\n",
       "      <th>S25</th>\n",
       "      <th>S26</th>\n",
       "      <th>S27</th>\n",
       "      <th>S28</th>\n",
       "      <th>S29</th>\n",
       "      <th>S30</th>\n",
       "    </tr>\n",
       "  </thead>\n",
       "  <tbody>\n",
       "    <tr>\n",
       "      <th>0</th>\n",
       "      <td>1</td>\n",
       "      <td>Zzz3</td>\n",
       "      <td>253.401685</td>\n",
       "      <td>402.850878</td>\n",
       "      <td>230.957463</td>\n",
       "      <td>688.486264</td>\n",
       "      <td>358.067836</td>\n",
       "      <td>344.962350</td>\n",
       "      <td>441.155001</td>\n",
       "      <td>301.149694</td>\n",
       "      <td>...</td>\n",
       "      <td>507.882774</td>\n",
       "      <td>465.081486</td>\n",
       "      <td>415.478767</td>\n",
       "      <td>297.061149</td>\n",
       "      <td>488.848114</td>\n",
       "      <td>367.912141</td>\n",
       "      <td>307.199908</td>\n",
       "      <td>347.802509</td>\n",
       "      <td>411.227261</td>\n",
       "      <td>283.709694</td>\n",
       "    </tr>\n",
       "    <tr>\n",
       "      <th>1</th>\n",
       "      <td>2</td>\n",
       "      <td>Zzef1</td>\n",
       "      <td>21.152797</td>\n",
       "      <td>21.152797</td>\n",
       "      <td>21.152797</td>\n",
       "      <td>21.152797</td>\n",
       "      <td>21.152797</td>\n",
       "      <td>21.152797</td>\n",
       "      <td>21.152797</td>\n",
       "      <td>21.152797</td>\n",
       "      <td>...</td>\n",
       "      <td>21.152797</td>\n",
       "      <td>21.152797</td>\n",
       "      <td>21.152797</td>\n",
       "      <td>21.152797</td>\n",
       "      <td>21.152797</td>\n",
       "      <td>21.152797</td>\n",
       "      <td>21.152797</td>\n",
       "      <td>21.152797</td>\n",
       "      <td>21.152797</td>\n",
       "      <td>21.152797</td>\n",
       "    </tr>\n",
       "    <tr>\n",
       "      <th>2</th>\n",
       "      <td>3</td>\n",
       "      <td>Zyx</td>\n",
       "      <td>40.578958</td>\n",
       "      <td>49.235160</td>\n",
       "      <td>59.472005</td>\n",
       "      <td>46.212152</td>\n",
       "      <td>61.969671</td>\n",
       "      <td>55.732843</td>\n",
       "      <td>53.819870</td>\n",
       "      <td>54.315691</td>\n",
       "      <td>...</td>\n",
       "      <td>33.512262</td>\n",
       "      <td>36.751853</td>\n",
       "      <td>36.952457</td>\n",
       "      <td>35.718610</td>\n",
       "      <td>27.346198</td>\n",
       "      <td>32.647887</td>\n",
       "      <td>42.006833</td>\n",
       "      <td>32.324596</td>\n",
       "      <td>41.426033</td>\n",
       "      <td>32.754971</td>\n",
       "    </tr>\n",
       "    <tr>\n",
       "      <th>3</th>\n",
       "      <td>4</td>\n",
       "      <td>Zyg11b</td>\n",
       "      <td>26.373102</td>\n",
       "      <td>35.001901</td>\n",
       "      <td>32.389728</td>\n",
       "      <td>34.932372</td>\n",
       "      <td>35.192365</td>\n",
       "      <td>33.858459</td>\n",
       "      <td>27.948378</td>\n",
       "      <td>21.152797</td>\n",
       "      <td>...</td>\n",
       "      <td>21.152797</td>\n",
       "      <td>21.152797</td>\n",
       "      <td>21.152797</td>\n",
       "      <td>21.152797</td>\n",
       "      <td>21.152797</td>\n",
       "      <td>21.152797</td>\n",
       "      <td>21.152797</td>\n",
       "      <td>21.152797</td>\n",
       "      <td>21.152797</td>\n",
       "      <td>21.152797</td>\n",
       "    </tr>\n",
       "    <tr>\n",
       "      <th>4</th>\n",
       "      <td>5</td>\n",
       "      <td>Zyg11a</td>\n",
       "      <td>21.152797</td>\n",
       "      <td>21.152797</td>\n",
       "      <td>21.152797</td>\n",
       "      <td>21.152797</td>\n",
       "      <td>21.152797</td>\n",
       "      <td>21.152797</td>\n",
       "      <td>21.152797</td>\n",
       "      <td>21.152797</td>\n",
       "      <td>...</td>\n",
       "      <td>21.152797</td>\n",
       "      <td>21.152797</td>\n",
       "      <td>21.152797</td>\n",
       "      <td>21.152797</td>\n",
       "      <td>21.152797</td>\n",
       "      <td>21.152797</td>\n",
       "      <td>21.152797</td>\n",
       "      <td>21.152797</td>\n",
       "      <td>21.152797</td>\n",
       "      <td>21.152797</td>\n",
       "    </tr>\n",
       "  </tbody>\n",
       "</table>\n",
       "<p>5 rows × 32 columns</p>\n",
       "</div>"
      ],
      "text/plain": [
       "   Unnamed: 0  symbol          S1          S2          S3          S4  \\\n",
       "0           1    Zzz3  253.401685  402.850878  230.957463  688.486264   \n",
       "1           2   Zzef1   21.152797   21.152797   21.152797   21.152797   \n",
       "2           3     Zyx   40.578958   49.235160   59.472005   46.212152   \n",
       "3           4  Zyg11b   26.373102   35.001901   32.389728   34.932372   \n",
       "4           5  Zyg11a   21.152797   21.152797   21.152797   21.152797   \n",
       "\n",
       "           S5          S6          S7          S8     ...             S21  \\\n",
       "0  358.067836  344.962350  441.155001  301.149694     ...      507.882774   \n",
       "1   21.152797   21.152797   21.152797   21.152797     ...       21.152797   \n",
       "2   61.969671   55.732843   53.819870   54.315691     ...       33.512262   \n",
       "3   35.192365   33.858459   27.948378   21.152797     ...       21.152797   \n",
       "4   21.152797   21.152797   21.152797   21.152797     ...       21.152797   \n",
       "\n",
       "          S22         S23         S24         S25         S26         S27  \\\n",
       "0  465.081486  415.478767  297.061149  488.848114  367.912141  307.199908   \n",
       "1   21.152797   21.152797   21.152797   21.152797   21.152797   21.152797   \n",
       "2   36.751853   36.952457   35.718610   27.346198   32.647887   42.006833   \n",
       "3   21.152797   21.152797   21.152797   21.152797   21.152797   21.152797   \n",
       "4   21.152797   21.152797   21.152797   21.152797   21.152797   21.152797   \n",
       "\n",
       "          S28         S29         S30  \n",
       "0  347.802509  411.227261  283.709694  \n",
       "1   21.152797   21.152797   21.152797  \n",
       "2   32.324596   41.426033   32.754971  \n",
       "3   21.152797   21.152797   21.152797  \n",
       "4   21.152797   21.152797   21.152797  \n",
       "\n",
       "[5 rows x 32 columns]"
      ]
     },
     "execution_count": 41,
     "metadata": {},
     "output_type": "execute_result"
    }
   ],
   "source": [
    "data.head()"
   ]
  },
  {
   "cell_type": "code",
   "execution_count": 42,
   "metadata": {},
   "outputs": [],
   "source": [
    "data = data.dropna()"
   ]
  },
  {
   "cell_type": "code",
   "execution_count": 43,
   "metadata": {},
   "outputs": [
    {
     "name": "stdout",
     "output_type": "stream",
     "text": [
      "717120\n"
     ]
    }
   ],
   "source": [
    "print(data.size)"
   ]
  },
  {
   "cell_type": "code",
   "execution_count": 46,
   "metadata": {},
   "outputs": [],
   "source": [
    "data = data.drop('Unnamed: 0',axis=1)\n",
    "data = data.drop_duplicates()"
   ]
  },
  {
   "cell_type": "code",
   "execution_count": 47,
   "metadata": {},
   "outputs": [
    {
     "name": "stdout",
     "output_type": "stream",
     "text": [
      "694214\n"
     ]
    }
   ],
   "source": [
    "print(data.size)"
   ]
  },
  {
   "cell_type": "code",
   "execution_count": 48,
   "metadata": {},
   "outputs": [],
   "source": [
    "data = data.set_index('symbol')"
   ]
  },
  {
   "cell_type": "code",
   "execution_count": null,
   "metadata": {},
   "outputs": [],
   "source": []
  },
  {
   "cell_type": "code",
   "execution_count": 49,
   "metadata": {},
   "outputs": [],
   "source": [
    "data = data.T\n",
    "data = data.drop_duplicates()"
   ]
  },
  {
   "cell_type": "code",
   "execution_count": 50,
   "metadata": {},
   "outputs": [
    {
     "name": "stdout",
     "output_type": "stream",
     "text": [
      "671820\n"
     ]
    }
   ],
   "source": [
    "print(data.size)"
   ]
  },
  {
   "cell_type": "code",
   "execution_count": 51,
   "metadata": {},
   "outputs": [],
   "source": [
    "data_pca = StandardScaler().fit_transform(data)"
   ]
  },
  {
   "cell_type": "code",
   "execution_count": 52,
   "metadata": {},
   "outputs": [],
   "source": [
    "from sklearn.decomposition import PCA"
   ]
  },
  {
   "cell_type": "code",
   "execution_count": 53,
   "metadata": {},
   "outputs": [],
   "source": [
    "pca = PCA(n_components=2)"
   ]
  },
  {
   "cell_type": "code",
   "execution_count": 54,
   "metadata": {},
   "outputs": [],
   "source": [
    "pca_components = pd.DataFrame(pca.fit_transform(data_pca))"
   ]
  },
  {
   "cell_type": "code",
   "execution_count": 55,
   "metadata": {},
   "outputs": [],
   "source": [
    "meta_data = pd.read_csv('Assignment-2 Meta data sheet .csv')"
   ]
  },
  {
   "cell_type": "code",
   "execution_count": 56,
   "metadata": {},
   "outputs": [
    {
     "data": {
      "text/html": [
       "<div>\n",
       "<style scoped>\n",
       "    .dataframe tbody tr th:only-of-type {\n",
       "        vertical-align: middle;\n",
       "    }\n",
       "\n",
       "    .dataframe tbody tr th {\n",
       "        vertical-align: top;\n",
       "    }\n",
       "\n",
       "    .dataframe thead th {\n",
       "        text-align: right;\n",
       "    }\n",
       "</style>\n",
       "<table border=\"1\" class=\"dataframe\">\n",
       "  <thead>\n",
       "    <tr style=\"text-align: right;\">\n",
       "      <th></th>\n",
       "      <th>sIdx</th>\n",
       "      <th>Time</th>\n",
       "      <th>Unit</th>\n",
       "    </tr>\n",
       "  </thead>\n",
       "  <tbody>\n",
       "    <tr>\n",
       "      <th>0</th>\n",
       "      <td>S1</td>\n",
       "      <td>9</td>\n",
       "      <td>Hours</td>\n",
       "    </tr>\n",
       "    <tr>\n",
       "      <th>1</th>\n",
       "      <td>S2</td>\n",
       "      <td>9</td>\n",
       "      <td>Hours</td>\n",
       "    </tr>\n",
       "  </tbody>\n",
       "</table>\n",
       "</div>"
      ],
      "text/plain": [
       "  sIdx  Time   Unit\n",
       "0   S1     9  Hours\n",
       "1   S2     9  Hours"
      ]
     },
     "execution_count": 56,
     "metadata": {},
     "output_type": "execute_result"
    }
   ],
   "source": [
    "meta_data.head(2)"
   ]
  },
  {
   "cell_type": "code",
   "execution_count": null,
   "metadata": {},
   "outputs": [],
   "source": []
  },
  {
   "cell_type": "code",
   "execution_count": 57,
   "metadata": {},
   "outputs": [
    {
     "data": {
      "text/plain": [
       "<matplotlib.axes._subplots.AxesSubplot at 0x19df58aae10>"
      ]
     },
     "execution_count": 57,
     "metadata": {},
     "output_type": "execute_result"
    },
    {
     "data": {
      "image/png": "[encoded data removed]",
      "text/plain": [
       "<Figure size 432x288 with 1 Axes>"
      ]
     },
     "metadata": {
      "needs_background": "light"
     },
     "output_type": "display_data"
    }
   ],
   "source": [
    "sns.scatterplot(x=pca_components[0],y=pca_components[1],hue=meta_data['Time'])"
   ]
  },
  {
   "cell_type": "code",
   "execution_count": null,
   "metadata": {},
   "outputs": [],
   "source": []
  },
  {
   "cell_type": "code",
   "execution_count": null,
   "metadata": {},
   "outputs": [],
   "source": []
  },
  {
   "cell_type": "code",
   "execution_count": null,
   "metadata": {},
   "outputs": [],
   "source": []
  },
  {
   "cell_type": "code",
   "execution_count": null,
   "metadata": {},
   "outputs": [],
   "source": []
  }
 ],
 "metadata": {
  "kernelspec": {
   "display_name": "Python 3",
   "language": "python",
   "name": "python3"
  },
  "language_info": {
   "codemirror_mode": {
    "name": "ipython",
    "version": 3
   },
   "file_extension": ".py",
   "mimetype": "text/x-python",
   "name": "python",
   "nbconvert_exporter": "python",
   "pygments_lexer": "ipython3",
   "version": "3.7.0"
  }
 },
 "nbformat": 4,
 "nbformat_minor": 2
}
